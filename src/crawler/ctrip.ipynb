{
 "cells": [
  {
   "cell_type": "code",
   "execution_count": 1,
   "metadata": {
    "collapsed": true
   },
   "outputs": [],
   "source": [
    "import urllib.request\n",
    "import random\n",
    "import time\n",
    "import re\n",
    "fout=open('articles_url.txt','w', encoding='utf-8')\n",
    "total_rec = 0\n",
    "for i in range(600):\n",
    "    url = \"http://you.ctrip.com/travels/Shanghai2/t3-p\"+str(i)+\".html\"\n",
    "    print(\"cur page: \", url)\n",
    "    res = urllib.request.urlopen(url)\n",
    "    data = res.read().decode(\"utf-8\")\n",
    "    results = re.findall('<a class=\"journal-item cf\" target.*?href=\"(.*?)\">.*?<dt class=\"ellipsis\">(.*?)</dt>', str(data), re.S)\n",
    "    tmp_rec = 0\n",
    "    for result in results:\n",
    "        tmp_rec += 1\n",
    "        fout.write(result[0]+','+result[1].replace(',',' ')+'\\n')\n",
    "    total_rec += tmp_rec\n",
    "    print('total_rec: {0}, cur page rec: {1}'.format(total_rec, tmp_rec))\n",
    "    fout.flush()\n",
    "    time.sleep(random.uniform(2,5))\n",
    "fout.close()"
   ]
  },
  {
   "cell_type": "code",
   "execution_count": 5,
   "metadata": {},
   "outputs": [
    {
     "name": "stdout",
     "output_type": "stream",
     "text": [
      "cur page:  /travels/shanghai2/3333236.html\n",
      "/travels/shanghai2/3333236.html,逛弄堂，览博物，遇见魔都美豪的丽致生活,天数：2 天 时间：1 月 人均：800 元 和谁：一个人,玩法：自由行，人文，小资，周末游，摄影，徒步,景点：田子坊 外滩 豫园 磁悬浮列车 美豪酒店 七宝老街 人民广场 上海博物馆 老城隍庙 外白渡桥 东方明珠 上海环球金融中心 \n",
      "cur page rec: 1\n",
      "cur page:  /travels/shanghai2/2831845.html\n",
      "/travels/shanghai2/2831845.html,我来到你的城市，走过你走过的路，说一声好久不见—I LOVE 上海，难忘5日游,天数：5 天 时间：2 月 人均：4000 元 和谁：,玩法：自由行，美食，人文，摄影，小资,景点：上海老街 豫园 外滩 马勒别墅 田子坊 朱家角 上海交通大学 上海环球金融中心 外白渡桥 1933老场坊 东方明珠 上海杜莎夫人蜡像馆 九曲桥 南京路步行街 课植园 圆津禅院 大清邮局 人民广场 老城隍庙 磁悬浮列车 放生桥 新天地 \n",
      "cur page rec: 2\n",
      "cur page:  /travels/shanghai2/2825009.html\n",
      "/travels/shanghai2/2825009.html,#过大年# 当喧嚣消散，遇见最真实的上海！,天数：2 天 时间：11 月 人均：1000 元 和谁：和朋友,玩法：,景点：外滩 田子坊 联艺凯文公寓 朱家角 东方明珠 外白渡桥 新天地 青浦 \n",
      "cur page rec: 3\n",
      "cur page:  /travels/shanghai2/3010073.html\n",
      "/travels/shanghai2/3010073.html,上海迪士尼乐园初体验！详细游园攻略 x 住玩具总动员酒店（海量夜间灯光幻影秀美照）,天数：2 天 时间：6 月 人均：1500 元 和谁：和朋友,玩法：周末游，摄影,景点：\n",
      "cur page rec: 4\n",
      "cur page:  /travels/shanghai2/3180596.html\n",
      "/travels/shanghai2/3180596.html,【小锋】嘿！文艺激情的上海（城市徒步+迪士尼详尽攻略）,天数：2 天 时间：9 月 人均：1500 元 和谁：和朋友,玩法：小资，摄影，人文，周末游，美食，徒步,景点：外滩 田子坊 豫园 静安寺 武康大楼 武康庭 巴金故居 上海联艺凯文公寓 上海电影博物馆 华山路 上海交通大学 徐家汇天主教堂 上海图书馆 武康路 \n",
      "cur page rec: 5\n",
      "cur page:  /travels/shanghai2/2966478.html\n",
      "/travels/shanghai2/2966478.html,如果只在上海，这样玩儿【上海攻略】,天数：3 天 时间：4 月 人均：2000 元 和谁：和朋友,玩法：火车，摄影，人文，自由行，徒步，美食，小资，周末游,景点：上海博物馆 人民广场 新天地 淮海路 豫园 上海老街 东方明珠 上海科技馆 世纪公园 中华艺术宫 外滩 田子坊 静安寺 武康路 徐家汇公园 巴金故居 武康庭 武康大楼 华山路 丁香花园 长乐路 甜爱路 \n",
      "cur page rec: 6\n",
      "cur page:  /travels/shanghai2/3022535.html\n",
      "/travels/shanghai2/3022535.html,【一刷上海迪士尼】稍稍迟来的上海迪士尼乐园试运营REPO~住乐园酒店，自助餐厅有惊喜！,天数：2 天 时间：5 月 人均：2000 元 和谁：和朋友,玩法：周末游,景点：\n",
      "cur page rec: 7\n",
      "cur page:  /travels/shanghaidisneyresort1446916/3115947.html\n",
      "/travels/shanghaidisneyresort1446916/3115947.html,GOGO与猴妈の中华行★2016年9月游记★BirthdayTrip上海迪士尼乐园★吃货暴走族の完美1日游★附番外篇,天数：6 天 时间：9 月 人均：850 元 和谁：和父母,玩法：自由行，徒步，摄影，美食，省钱，购物,景点：9宫格图文精华版攻略 行前准备 哪些需要注意携带 游园小贴士 DISNEY美食大搜索 DISNEY游乐排行榜 DISNEY二日游酒店住宿推荐 上海迪士尼乐园酒店  上海玩具总动员酒店 交通信息 上海迪士尼度假区 米奇大街 帕帕里诺冰激凌 小米大厨烘焙坊 奇奇蒂蒂果摊 Mickey & Pals Market Café米奇好伙伴美味集市 美妙记忆屋 老车站商店 M大街购物廊 探险岛 翱翔•飞越地平线 雷鸣山漂流 古迹探索营 人猿泰山：丛林的呼唤 Tribal Table部落丰盛堂 宝藏湾 加勒比海盗——沉落宝藏之战 风暴来临——杰克船长之惊天特技大冒险 探险家独木舟 探秘海妖复仇号 船奇戏水滩 土图嘉风味 Barbossa’s Bounty 巴波萨烧烤 梦幻世界 欢宴广场 Tangled Tree Tavern 老藤树食栈 魔法师秘制小食 Pinocchio Village Kitchen皮诺丘乡村厨房 仙女教母妙味橱 吟游风味 Royal Banquet Hall 皇家宴会厅 小飞侠天空奇遇 爱丽丝梦游仙境迷宫 冰雪奇缘：欢唱盛会 七个小矮人矿山车 旋转疯蜜罐 晶彩奇航 明日世界 Stargazer Grill 星露台餐厅 创极速光轮 喷气背包飞行器 巴斯光年星际营救 太空幸会史迪奇 星球大战远征基地 奇想花园 花间美味 漫月轩 提摩太小吃 米奇童话专列 漫威英雄总部 漫游童话时光 幻想曲旋转木马 小飞象 十二朋友园 奇幻童话城堡 点亮奇梦：夜光幻影秀 缤纷变换沙龙 迪士尼小镇 迪士尼世界商店 丼丼屋 DONDONYA(迪士尼小镇店) bluefrog蓝蛙(迪士尼小镇店) 芝乐坊餐厅（迪士尼小镇店） 星巴克（迪士尼小镇店） GOGO小账本 番外篇 （农历）中秋生日大餐 GOGO私房菜（阳历）国庆生日大餐  \n",
      "cur page rec: 8\n",
      "cur page:  /travels/shanghai2/3040820.html\n",
      "/travels/shanghai2/3040820.html,【一个人的旅行】at魔都上海,天数：3 天 时间：5 月 人均：2400 元 和谁：一个人,玩法：自由行,景点：田子坊 上海琉璃艺术博物馆 思南路 新天地 豫园 上海博物馆 东方明珠 南京路步行街 外滩 中华艺术宫 滨江大道 \n",
      "cur page rec: 9\n",
      "cur page:  /travels/shanghai2/3333236.html\n",
      "/travels/shanghai2/3333236.html,逛弄堂，览博物，遇见魔都美豪的丽致生活,天数：2 天 时间：1 月 人均：800 元 和谁：一个人,玩法：自由行，人文，小资，周末游，摄影，徒步,景点：田子坊 外滩 豫园 磁悬浮列车 美豪酒店 七宝老街 人民广场 上海博物馆 老城隍庙 外白渡桥 东方明珠 上海环球金融中心 \n",
      "cur page rec: 10\n",
      "cur page:  /travels/shanghai2/2831845.html\n",
      "/travels/shanghai2/2831845.html,我来到你的城市，走过你走过的路，说一声好久不见—I LOVE 上海，难忘5日游,天数：5 天 时间：2 月 人均：4000 元 和谁：,玩法：自由行，美食，人文，摄影，小资,景点：上海老街 豫园 外滩 马勒别墅 田子坊 朱家角 上海交通大学 上海环球金融中心 外白渡桥 1933老场坊 东方明珠 上海杜莎夫人蜡像馆 九曲桥 南京路步行街 课植园 圆津禅院 大清邮局 人民广场 老城隍庙 磁悬浮列车 放生桥 新天地 \n",
      "cur page rec: 11\n"
     ]
    }
   ],
   "source": [
    "import urllib.request\n",
    "import random\n",
    "import time\n",
    "import re\n",
    "fin=open('articles_url.txt','r', encoding='utf-8')\n",
    "fout=open('article_details.txt','w',encoding='utf-8')\n",
    "cur_rec = 0\n",
    "for line in fin:\n",
    "    arr=line.split(',',1)\n",
    "    print(\"cur page: \", arr[0])\n",
    "    url=arr[0]\n",
    "    title=arr[1].strip('\\n')\n",
    "    res = urllib.request.urlopen('http://you.ctrip.com'+url)\n",
    "    data = str(res.read().decode(\"utf-8\"))\n",
    "    days = re.search('<i class=\"days\"></i>(.*?)</span>', data, re.S)\n",
    "    if days:\n",
    "        days = days.group(1)\n",
    "    else:\n",
    "        days = '天数：'\n",
    "    times= re.search('<i class=\"times\"></i>(.*?)</span>',data, re.S)\n",
    "    if times:\n",
    "        times = times.group(1)\n",
    "    else:\n",
    "        times = '时间：'\n",
    "    costs= re.search('<i class=\"costs\"></i>(.*?)</span>',data, re.S)\n",
    "    if costs:\n",
    "        costs = costs.group(1)\n",
    "    else:\n",
    "        costs = '人均：'\n",
    "    whos = re.search('<i class=\"whos\"></i>(.*?)</span>', data, re.S)\n",
    "    if whos:\n",
    "        whos = whos.group(1)\n",
    "    else:\n",
    "        whos = '和谁：'\n",
    "    stat = days+' '+times+' '+costs+' '+whos\n",
    "    plays = re.search('<i class=\"plays\"></i>(.*?)</span>', data, re.S)\n",
    "    if plays:\n",
    "        play=plays.group(1)\n",
    "    else:\n",
    "        play='玩法：'\n",
    "    results = re.findall('a class=\"gs_a_poi\" data-classtype=.*?href=\"javascript:;\"\\s.*?>(.*?)</a>', data, re.S)\n",
    "    poi='景点：'\n",
    "    for result in results:\n",
    "        if result != '上海':\n",
    "            poi += result+' '\n",
    "    info = url+','+title+','+stat+','+play.replace(',',' ')+','+poi.replace(',',' ')\n",
    "    print(info)\n",
    "    fout.write(info+\"\\n\")\n",
    "    fout.flush()\n",
    "    cur_rec += 1\n",
    "    print('cur page rec: {0}'.format(cur_rec))\n",
    "    time.sleep(random.uniform(2,5))\n",
    "fout.close()\n",
    "fin.close()"
   ]
  },
  {
   "cell_type": "code",
   "execution_count": null,
   "metadata": {
    "collapsed": true
   },
   "outputs": [],
   "source": [
    ""
   ]
  }
 ],
 "metadata": {
  "kernelspec": {
   "display_name": "Python 3",
   "language": "python",
   "name": "python3"
  },
  "language_info": {
   "codemirror_mode": {
    "name": "ipython",
    "version": 3.0
   },
   "file_extension": ".py",
   "mimetype": "text/x-python",
   "name": "python",
   "nbconvert_exporter": "python",
   "pygments_lexer": "ipython3",
   "version": "3.5.0"
  }
 },
 "nbformat": 4,
 "nbformat_minor": 0
}